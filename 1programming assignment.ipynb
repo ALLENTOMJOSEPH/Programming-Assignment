{
 "cells": [
  {
   "cell_type": "code",
   "execution_count": 1,
   "id": "0d066492",
   "metadata": {},
   "outputs": [
    {
     "name": "stdout",
     "output_type": "stream",
     "text": [
      "Hello Python\n"
     ]
    }
   ],
   "source": [
    "#1.Write a Python program to print &quot;Hello Python&quot;?\n",
    "\n",
    "print(\"Hello Python\")"
   ]
  },
  {
   "cell_type": "code",
   "execution_count": 5,
   "id": "056bcaac",
   "metadata": {},
   "outputs": [
    {
     "name": "stdout",
     "output_type": "stream",
     "text": [
      "enter integer a :30\n",
      "enter integer b :5\n",
      "sum= 35\n",
      "division= 6.0\n"
     ]
    }
   ],
   "source": [
    "#2. Write a Python program to do arithmetical operations addition and division.?\n",
    "a=int(input(\"enter integer a :\" ))\n",
    "b=int(input(\"enter integer b :\" ))\n",
    "print(\"sum=\",a+b)\n",
    "print(\"division=\",(a/b))"
   ]
  },
  {
   "cell_type": "code",
   "execution_count": 17,
   "id": "7b880923",
   "metadata": {},
   "outputs": [
    {
     "name": "stdout",
     "output_type": "stream",
     "text": [
      "enter 1st side length :10\n",
      "enter 2nd side length :12\n",
      "enter 3rd side length :13\n",
      "area is 13.624426593438713\n"
     ]
    }
   ],
   "source": [
    "#3. Write a Python program to find the area of a triangle?a=int(input(\"enter 1st side length :\" ))\n",
    "b=int(input(\"enter 2nd side length :\" ))\n",
    "c=int(input(\"enter 3rd side length :\"))\n",
    "s=((a+b+c)/2)\n",
    "sub=((s-a)*(s-b)*(s-c))\n",
    "print(\"area is\",sub**0.5)"
   ]
  },
  {
   "cell_type": "code",
   "execution_count": 6,
   "id": "4d7ae289",
   "metadata": {},
   "outputs": [
    {
     "name": "stdout",
     "output_type": "stream",
     "text": [
      "enter no a: 24\n",
      "enter no b: 45\n",
      "before swapping two numbers::1st number=24  2nd nummber=45\n",
      "after swap numbers are 45 24\n"
     ]
    }
   ],
   "source": [
    "#4Write a Python program to swap two variables?\n",
    "a=int(input(\"enter no a: \"))\n",
    "b=int(input(\"enter no b: \"))\n",
    "print(\"before swapping two numbers::1st number={}  2nd nummber={}\".format(a,b))\n",
    "temp=a\n",
    "a=b\n",
    "b=temp\n",
    "print(\"after swap numbers are\",a,b)\n"
   ]
  },
  {
   "cell_type": "code",
   "execution_count": 9,
   "id": "0e2a1637",
   "metadata": {},
   "outputs": [
    {
     "name": "stdout",
     "output_type": "stream",
     "text": [
      "488\n"
     ]
    }
   ],
   "source": [
    "#5 Write a Python program to generate a random number?\n",
    "import random\n",
    "p=random.randint(0,1000)\n",
    "print(p)"
   ]
  },
  {
   "cell_type": "code",
   "execution_count": null,
   "id": "ea8adc02",
   "metadata": {},
   "outputs": [],
   "source": []
  }
 ],
 "metadata": {
  "kernelspec": {
   "display_name": "Python 3 (ipykernel)",
   "language": "python",
   "name": "python3"
  },
  "language_info": {
   "codemirror_mode": {
    "name": "ipython",
    "version": 3
   },
   "file_extension": ".py",
   "mimetype": "text/x-python",
   "name": "python",
   "nbconvert_exporter": "python",
   "pygments_lexer": "ipython3",
   "version": "3.9.12"
  }
 },
 "nbformat": 4,
 "nbformat_minor": 5
}
