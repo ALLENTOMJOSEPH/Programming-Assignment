{
 "cells": [
  {
   "cell_type": "code",
   "execution_count": 26,
   "id": "d49a4dc2",
   "metadata": {},
   "outputs": [
    {
     "name": "stdout",
     "output_type": "stream",
     "text": [
      "enter km value23\n",
      "converted value of mile from km is 14.291509999999999\n"
     ]
    }
   ],
   "source": [
    "#1.Write a Python program to convert kilometers to miles?\n",
    "km=int(input(\"enter km value\"))\n",
    "print(\"converted value of mile from km is\",km*0.62137)"
   ]
  },
  {
   "cell_type": "code",
   "execution_count": 29,
   "id": "62c5d9d8",
   "metadata": {},
   "outputs": [
    {
     "name": "stdout",
     "output_type": "stream",
     "text": [
      "enter temperature in celsius30\n",
      "farenheit value= 86.0\n"
     ]
    }
   ],
   "source": [
    "#2Write a Python program to convert Celsius to Fahrenheit?\n",
    "celsius=int(input(\"enter temperature in celsius\"))\n",
    "f=(celsius*1.8)+32\n",
    "print(\"farenheit value=\",f)"
   ]
  },
  {
   "cell_type": "code",
   "execution_count": 25,
   "id": "c5c8df72",
   "metadata": {},
   "outputs": [
    {
     "name": "stdout",
     "output_type": "stream",
     "text": [
      "enter the year  2022\n",
      "                                  2022\n",
      "\n",
      "      January                   February                   March\n",
      "Mo Tu We Th Fr Sa Su      Mo Tu We Th Fr Sa Su      Mo Tu We Th Fr Sa Su\n",
      "                1  2          1  2  3  4  5  6          1  2  3  4  5  6\n",
      " 3  4  5  6  7  8  9       7  8  9 10 11 12 13       7  8  9 10 11 12 13\n",
      "10 11 12 13 14 15 16      14 15 16 17 18 19 20      14 15 16 17 18 19 20\n",
      "17 18 19 20 21 22 23      21 22 23 24 25 26 27      21 22 23 24 25 26 27\n",
      "24 25 26 27 28 29 30      28                        28 29 30 31\n",
      "31\n",
      "\n",
      "       April                      May                       June\n",
      "Mo Tu We Th Fr Sa Su      Mo Tu We Th Fr Sa Su      Mo Tu We Th Fr Sa Su\n",
      "             1  2  3                         1             1  2  3  4  5\n",
      " 4  5  6  7  8  9 10       2  3  4  5  6  7  8       6  7  8  9 10 11 12\n",
      "11 12 13 14 15 16 17       9 10 11 12 13 14 15      13 14 15 16 17 18 19\n",
      "18 19 20 21 22 23 24      16 17 18 19 20 21 22      20 21 22 23 24 25 26\n",
      "25 26 27 28 29 30         23 24 25 26 27 28 29      27 28 29 30\n",
      "                          30 31\n",
      "\n",
      "        July                     August                  September\n",
      "Mo Tu We Th Fr Sa Su      Mo Tu We Th Fr Sa Su      Mo Tu We Th Fr Sa Su\n",
      "             1  2  3       1  2  3  4  5  6  7                1  2  3  4\n",
      " 4  5  6  7  8  9 10       8  9 10 11 12 13 14       5  6  7  8  9 10 11\n",
      "11 12 13 14 15 16 17      15 16 17 18 19 20 21      12 13 14 15 16 17 18\n",
      "18 19 20 21 22 23 24      22 23 24 25 26 27 28      19 20 21 22 23 24 25\n",
      "25 26 27 28 29 30 31      29 30 31                  26 27 28 29 30\n",
      "\n",
      "      October                   November                  December\n",
      "Mo Tu We Th Fr Sa Su      Mo Tu We Th Fr Sa Su      Mo Tu We Th Fr Sa Su\n",
      "                1  2          1  2  3  4  5  6                1  2  3  4\n",
      " 3  4  5  6  7  8  9       7  8  9 10 11 12 13       5  6  7  8  9 10 11\n",
      "10 11 12 13 14 15 16      14 15 16 17 18 19 20      12 13 14 15 16 17 18\n",
      "17 18 19 20 21 22 23      21 22 23 24 25 26 27      19 20 21 22 23 24 25\n",
      "24 25 26 27 28 29 30      28 29 30                  26 27 28 29 30 31\n",
      "31\n",
      "\n"
     ]
    }
   ],
   "source": [
    "#3Write a Python program to display calendar?\n",
    "import calendar\n",
    "yy=int(input(\"enter the year  \" ))\n",
    "print(calendar.calendar(yy))"
   ]
  },
  {
   "cell_type": "code",
   "execution_count": 15,
   "id": "32a76759",
   "metadata": {},
   "outputs": [
    {
     "name": "stdout",
     "output_type": "stream",
     "text": [
      "call function roots with arguments a,b,c\n"
     ]
    }
   ],
   "source": [
    "#4.\tWrite a Python program to solve quadratic equation?\n",
    "import math\n",
    "print(\"call function roots with arguments a,b,c\")\n",
    "def roots(a,b,c):\n",
    "    dis=b**2-4*a*c \n",
    "    sq=math.sqrt(dis)\n",
    "    if(dis>0):\n",
    "        r1=((-b+sq)/2*a)\n",
    "        r2=((-b-sq )/2*a)\n",
    "        print(\"real and different roots are there {0} and {1}\".format(r1,r2))\n",
    "       \n",
    "    elif dis==0:\n",
    "        r=-b/2*a\n",
    "        print(\"real and same roots\",r)\n",
    "    else:\n",
    "        r1=((-b+\"i\"*(sqrt))/2*a)\n",
    "        r2=((-b-\"i\"*sqrt)/2*a)\n",
    "        print(\"complex roots\")\n",
    "        print(r1)\n",
    "        print(r2)\n"
   ]
  },
  {
   "cell_type": "code",
   "execution_count": 16,
   "id": "7f8aec7b",
   "metadata": {},
   "outputs": [
    {
     "name": "stdout",
     "output_type": "stream",
     "text": [
      "real and different roots are there 10.0 and 2.0\n"
     ]
    }
   ],
   "source": [
    "roots(1,-12,20)"
   ]
  },
  {
   "cell_type": "code",
   "execution_count": null,
   "id": "5c2a4459",
   "metadata": {},
   "outputs": [],
   "source": []
  },
  {
   "cell_type": "code",
   "execution_count": 17,
   "id": "23038b2a",
   "metadata": {},
   "outputs": [
    {
     "name": "stdout",
     "output_type": "stream",
     "text": [
      "enter values of a and b \n"
     ]
    }
   ],
   "source": [
    "#5.\tWrite a Python program to swap two variables without temp variable?\n",
    "print(\"enter values of a and b \")\n",
    "def swap(a,b):\n",
    "    a,b=b,a\n",
    "    print(\"a=\",a)\n",
    "    print(\"b=\",b)"
   ]
  },
  {
   "cell_type": "code",
   "execution_count": 18,
   "id": "63e946da",
   "metadata": {},
   "outputs": [
    {
     "name": "stdout",
     "output_type": "stream",
     "text": [
      "a= 4\n",
      "b= 3\n"
     ]
    }
   ],
   "source": [
    "swap(3,4)"
   ]
  },
  {
   "cell_type": "code",
   "execution_count": null,
   "id": "726ba962",
   "metadata": {},
   "outputs": [],
   "source": []
  }
 ],
 "metadata": {
  "kernelspec": {
   "display_name": "Python 3 (ipykernel)",
   "language": "python",
   "name": "python3"
  },
  "language_info": {
   "codemirror_mode": {
    "name": "ipython",
    "version": 3
   },
   "file_extension": ".py",
   "mimetype": "text/x-python",
   "name": "python",
   "nbconvert_exporter": "python",
   "pygments_lexer": "ipython3",
   "version": "3.9.12"
  }
 },
 "nbformat": 4,
 "nbformat_minor": 5
}
